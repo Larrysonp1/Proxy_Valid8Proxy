{
  "nbformat": 4,
  "nbformat_minor": 0,
  "metadata": {
    "colab": {
      "provenance": []
    },
    "kernelspec": {
      "name": "python3",
      "display_name": "Python 3"
    },
    "language_info": {
      "name": "python"
    }
  },
  "cells": [
    {
      "cell_type": "code",
      "execution_count": 1,
      "metadata": {
        "colab": {
          "base_uri": "https://localhost:8080/"
        },
        "id": "MariTTwm3u4F",
        "outputId": "dcc6bd10-2dd1-4473-d6b2-5282285eeb21"
      },
      "outputs": [
        {
          "output_type": "stream",
          "name": "stdout",
          "text": [
            "Cloning into 'Valid8Proxy'...\n",
            "remote: Enumerating objects: 83, done.\u001b[K\n",
            "remote: Counting objects: 100% (83/83), done.\u001b[K\n",
            "remote: Compressing objects: 100% (74/74), done.\u001b[K\n",
            "remote: Total 83 (delta 42), reused 23 (delta 7), pack-reused 0\u001b[K\n",
            "Receiving objects: 100% (83/83), 1.03 MiB | 10.68 MiB/s, done.\n",
            "Resolving deltas: 100% (42/42), done.\n"
          ]
        }
      ],
      "source": [
        "!git clone https://github.com/spyboy-productions/Valid8Proxy.git"
      ]
    },
    {
      "cell_type": "code",
      "source": [
        "cd Valid8Proxy"
      ],
      "metadata": {
        "colab": {
          "base_uri": "https://localhost:8080/"
        },
        "id": "O8aJuV8h31q6",
        "outputId": "dcfdb771-42ff-476e-bd1d-a305e860dfab"
      },
      "execution_count": 2,
      "outputs": [
        {
          "output_type": "stream",
          "name": "stdout",
          "text": [
            "/content/Valid8Proxy\n"
          ]
        }
      ]
    },
    {
      "cell_type": "code",
      "source": [
        "!pip install -r requirements.txt"
      ],
      "metadata": {
        "colab": {
          "base_uri": "https://localhost:8080/"
        },
        "id": "4g1tnjUQ34PO",
        "outputId": "d3781bbc-fd0d-445c-e055-4ba0da37f99d"
      },
      "execution_count": 3,
      "outputs": [
        {
          "output_type": "stream",
          "name": "stdout",
          "text": [
            "Requirement already satisfied: requests in /usr/local/lib/python3.10/dist-packages (from -r requirements.txt (line 1)) (2.31.0)\n",
            "Collecting colorama (from -r requirements.txt (line 2))\n",
            "  Downloading colorama-0.4.6-py2.py3-none-any.whl (25 kB)\n",
            "Requirement already satisfied: charset-normalizer<4,>=2 in /usr/local/lib/python3.10/dist-packages (from requests->-r requirements.txt (line 1)) (3.3.2)\n",
            "Requirement already satisfied: idna<4,>=2.5 in /usr/local/lib/python3.10/dist-packages (from requests->-r requirements.txt (line 1)) (3.6)\n",
            "Requirement already satisfied: urllib3<3,>=1.21.1 in /usr/local/lib/python3.10/dist-packages (from requests->-r requirements.txt (line 1)) (2.0.7)\n",
            "Requirement already satisfied: certifi>=2017.4.17 in /usr/local/lib/python3.10/dist-packages (from requests->-r requirements.txt (line 1)) (2024.2.2)\n",
            "Installing collected packages: colorama\n",
            "Successfully installed colorama-0.4.6\n"
          ]
        }
      ]
    },
    {
      "cell_type": "code",
      "source": [
        "!python Valid8Proxy.py"
      ],
      "metadata": {
        "colab": {
          "base_uri": "https://localhost:8080/"
        },
        "id": "RimZbWKi36xe",
        "outputId": "577ee88b-88a9-45c5-bbaa-22cb6e16aca8"
      },
      "execution_count": 5,
      "outputs": [
        {
          "output_type": "stream",
          "name": "stdout",
          "text": [
            "\u001b[32m                                                    \n",
            "  ___ ___       __ __    __ _______ _______                        \n",
            " |   Y   .---.-|  |__.--|  |   _   |   _   .----.-----.--.--.--.--.\n",
            " |.  |   |  _  |  |  |  _  |.  |   |.  1   |   _|  _  |_   _|  |  |\n",
            " |.  |   |___._|__|__|_____|.  _   |.  ____|__| |_____|__.__|___  |\n",
            " |:  1   |                 |:  1   |:  |                    |_____|\n",
            "  \\:.. ./                  |::.. . |::.|                           \n",
            "   `---'                   `-------`---'                                                                               \n",
            "      fetching, validating, and storing working proxies.     \n",
            "\n",
            "\u001b[0m\n",
            "\u001b[0m\n",
            "\u001b[0m\u001b[32m[+] \u001b[33mVersion      : \u001b[0m0.0.2\u001b[0m\n",
            "\u001b[0m\u001b[32m[+] \u001b[33mCreated By   : \u001b[0mSpyboy\u001b[0m\n",
            "\u001b[0m\u001b[32m ╰➤ \u001b[33mTwitter      : \u001b[0mhttps://spyboy.in/twitter\u001b[0m\n",
            "\u001b[0m\u001b[32m ╰➤ \u001b[33mDiscord      : \u001b[0mhttps://spyboy.in/Discord\u001b[0m\n",
            "\u001b[0m\u001b[32m ╰➤ \u001b[33mWebsite      : \u001b[0mhttps://spyboy.in/\u001b[0m\n",
            "\u001b[0m\u001b[32m ╰➤ \u001b[33mBlog         : \u001b[0mhttps://spyboy.blog/\u001b[0m\n",
            "\u001b[0m\u001b[32m ╰➤ \u001b[33mGithub       : \u001b[0mhttps://github.com/spyboy-productions/Valid8Proxy\n",
            "\u001b[0m\n",
            "\u001b[0m\u001b[36mLet's find some validated proxies!\u001b[0m\u001b[0m\n",
            "\u001b[0m\u001b[33mEnter the number of proxies you want to print:\u001b[0m5\n",
            "8.219.97.248:80 : \u001b[31m[Not Working]\u001b[0m\u001b[0m\n",
            "\u001b[0m4.144.136.15:80 : \u001b[32m[Working]\u001b[0m\u001b[0m\n",
            "\u001b[0m72.10.160.90:29129 : \u001b[31m[Not Working]\u001b[0m\u001b[0m\n",
            "\u001b[0m157.119.249.146:9000 : \u001b[31m[Not Working]\u001b[0m\u001b[0m\n",
            "\u001b[0m35.185.196.38:3128 : \u001b[32m[Working]\u001b[0m\u001b[0m\n",
            "\u001b[0m67.43.228.251:11339 : \u001b[31m[Not Working]\u001b[0m\u001b[0m\n",
            "\u001b[0m140.238.245.116:8100 : \u001b[32m[Working]\u001b[0m\u001b[0m\n",
            "\u001b[0m67.43.227.227:4479 : \u001b[31m[Not Working]\u001b[0m\u001b[0m\n",
            "\u001b[0m67.43.228.253:14869 : \u001b[31m[Not Working]\u001b[0m\u001b[0m\n",
            "\u001b[0m67.43.227.230:23685 : \u001b[31m[Not Working]\u001b[0m\u001b[0m\n",
            "\u001b[0m185.165.46.208:3128 : \u001b[32m[Working]\u001b[0m\u001b[0m\n",
            "\u001b[0m198.199.83.206:8000 : \u001b[31m[Not Working]\u001b[0m\u001b[0m\n",
            "\u001b[0m189.240.60.168:9090 : \u001b[32m[Working]\u001b[0m\u001b[0m\n",
            "\u001b[0m\n",
            "\u001b[33m[+]\u001b[32m List of Working Proxies:\u001b[0m\n",
            "\u001b[0m\n",
            "\u001b[0m35.185.196.38:3128\u001b[0m\n",
            "\u001b[0m4.144.136.15:80\u001b[0m\n",
            "\u001b[0m185.165.46.208:3128\u001b[0m\n",
            "\u001b[0m189.240.60.168:9090\u001b[0m\n",
            "\u001b[0m140.238.245.116:8100\u001b[0m\n",
            "\u001b[0m\n",
            "\u001b[33m[+]\u001b[32m Time taken: \u001b[33m20.26381778717041 seconds\u001b[0m\n",
            "\u001b[0m\n",
            "\u001b[33m[+]\u001b[31m List of Working Proxies saved at: \u001b[32m/content/Valid8Proxy/proxies.txt\u001b[0m\u001b[0m\n",
            "\u001b[0m\u001b[0m"
          ]
        }
      ]
    }
  ]
}