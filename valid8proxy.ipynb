{
  "nbformat": 4,
  "nbformat_minor": 0,
  "metadata": {
    "colab": {
      "provenance": []
    },
    "kernelspec": {
      "name": "python3",
      "display_name": "Python 3"
    },
    "language_info": {
      "name": "python"
    }
  },
  "cells": [
    {
      "cell_type": "code",
      "execution_count": 2,
      "metadata": {
        "colab": {
          "base_uri": "https://localhost:8080/"
        },
        "id": "JJOXabAstdQh",
        "outputId": "2926f14f-c2db-4aa7-8e1d-e711750cfe48"
      },
      "outputs": [
        {
          "output_type": "stream",
          "name": "stdout",
          "text": [
            "Cloning into 'Valid8Proxy'...\n",
            "remote: Enumerating objects: 73, done.\u001b[K\n",
            "remote: Counting objects: 100% (73/73), done.\u001b[K\n",
            "remote: Compressing objects: 100% (67/67), done.\u001b[K\n",
            "remote: Total 73 (delta 37), reused 14 (delta 4), pack-reused 0\u001b[K\n",
            "Receiving objects: 100% (73/73), 1.03 MiB | 7.30 MiB/s, done.\n",
            "Resolving deltas: 100% (37/37), done.\n"
          ]
        }
      ],
      "source": [
        "!git clone https://github.com/spyboy-productions/Valid8Proxy.git"
      ]
    },
    {
      "cell_type": "code",
      "source": [
        "cd Valid8Proxy"
      ],
      "metadata": {
        "colab": {
          "base_uri": "https://localhost:8080/"
        },
        "id": "9K2jM25Zt1Er",
        "outputId": "a0c28e4e-3ff6-491b-d42b-d7ead50aa21e"
      },
      "execution_count": 6,
      "outputs": [
        {
          "output_type": "stream",
          "name": "stdout",
          "text": [
            "/content/Valid8Proxy\n"
          ]
        }
      ]
    },
    {
      "cell_type": "code",
      "source": [
        "!pip3 install -r requirements.txt"
      ],
      "metadata": {
        "colab": {
          "base_uri": "https://localhost:8080/"
        },
        "id": "T71nzqawuAPv",
        "outputId": "81b77841-617d-4bdd-cb82-1ccb1ce00ed4"
      },
      "execution_count": 7,
      "outputs": [
        {
          "output_type": "stream",
          "name": "stdout",
          "text": [
            "Requirement already satisfied: requests in /usr/local/lib/python3.10/dist-packages (from -r requirements.txt (line 1)) (2.31.0)\n",
            "Collecting colorama (from -r requirements.txt (line 2))\n",
            "  Downloading colorama-0.4.6-py2.py3-none-any.whl (25 kB)\n",
            "Requirement already satisfied: charset-normalizer<4,>=2 in /usr/local/lib/python3.10/dist-packages (from requests->-r requirements.txt (line 1)) (3.3.2)\n",
            "Requirement already satisfied: idna<4,>=2.5 in /usr/local/lib/python3.10/dist-packages (from requests->-r requirements.txt (line 1)) (3.6)\n",
            "Requirement already satisfied: urllib3<3,>=1.21.1 in /usr/local/lib/python3.10/dist-packages (from requests->-r requirements.txt (line 1)) (2.0.7)\n",
            "Requirement already satisfied: certifi>=2017.4.17 in /usr/local/lib/python3.10/dist-packages (from requests->-r requirements.txt (line 1)) (2024.2.2)\n",
            "Installing collected packages: colorama\n",
            "Successfully installed colorama-0.4.6\n"
          ]
        }
      ]
    },
    {
      "cell_type": "code",
      "source": [
        "!python3 Valid8Proxy.py"
      ],
      "metadata": {
        "colab": {
          "base_uri": "https://localhost:8080/"
        },
        "id": "CjI9X4PguWaw",
        "outputId": "63a11ca0-959f-4de5-f77b-40821e65621d"
      },
      "execution_count": 8,
      "outputs": [
        {
          "output_type": "stream",
          "name": "stdout",
          "text": [
            "\u001b[32m                                                    \n",
            "  ___ ___       __ __    __ _______ _______                        \n",
            " |   Y   .---.-|  |__.--|  |   _   |   _   .----.-----.--.--.--.--.\n",
            " |.  |   |  _  |  |  |  _  |.  |   |.  1   |   _|  _  |_   _|  |  |\n",
            " |.  |   |___._|__|__|_____|.  _   |.  ____|__| |_____|__.__|___  |\n",
            " |:  1   |                 |:  1   |:  |                    |_____|\n",
            "  \\:.. ./                  |::.. . |::.|                           \n",
            "   `---'                   `-------`---'                                                                               \n",
            "      fetching, validating, and storing working proxies.     \n",
            "\n",
            "\u001b[0m\n",
            "\u001b[0m\n",
            "\u001b[0m\u001b[32m[+] \u001b[33mVersion      : \u001b[0m0.0.2\u001b[0m\n",
            "\u001b[0m\u001b[32m[+] \u001b[33mCreated By   : \u001b[0mSpyboy\u001b[0m\n",
            "\u001b[0m\u001b[32m ╰➤ \u001b[33mTwitter      : \u001b[0mhttps://spyboy.in/twitter\u001b[0m\n",
            "\u001b[0m\u001b[32m ╰➤ \u001b[33mDiscord      : \u001b[0mhttps://spyboy.in/Discord\u001b[0m\n",
            "\u001b[0m\u001b[32m ╰➤ \u001b[33mWebsite      : \u001b[0mhttps://spyboy.in/\u001b[0m\n",
            "\u001b[0m\u001b[32m ╰➤ \u001b[33mBlog         : \u001b[0mhttps://spyboy.blog/\u001b[0m\n",
            "\u001b[0m\u001b[32m ╰➤ \u001b[33mGithub       : \u001b[0mhttps://github.com/spyboy-productions/Valid8Proxy\n",
            "\u001b[0m\n",
            "\u001b[0m\u001b[36mLet's find some validated proxies!\u001b[0m\u001b[0m\n",
            "\u001b[0m\u001b[33mEnter the number of proxies you want to print:\u001b[0m5\n",
            "4.144.136.15:80 : \u001b[31m[Not Working]\u001b[0m\u001b[0m\n",
            "\u001b[0m51.145.176.250:8080 : \u001b[32m[Working]\u001b[0m\u001b[0m\n",
            "\u001b[0m20.44.188.17:3129 : \u001b[31m[Not Working]\u001b[0m\u001b[0m\n",
            "\u001b[0m20.204.212.76:3129 : \u001b[31m[Not Working]\u001b[0m\u001b[0m\n",
            "\u001b[0m20.204.214.23:3129 : \u001b[31m[Not Working]\u001b[0m\u001b[0m\n",
            "\u001b[0m20.219.183.188:3129 : \u001b[31m[Not Working]\u001b[0m\u001b[0m\n",
            "\u001b[0m20.219.176.57:3129 : \u001b[31m[Not Working]\u001b[0m\u001b[0m\n",
            "\u001b[0m20.219.180.149:3129 : \u001b[31m[Not Working]\u001b[0m\u001b[0m\n",
            "\u001b[0m35.185.196.38:3128 : \u001b[32m[Working]\u001b[0m\u001b[0m\n",
            "\u001b[0m20.219.180.105:3129 : \u001b[31m[Not Working]\u001b[0m\u001b[0m\n",
            "\u001b[0m178.128.113.118:23128 : \u001b[31m[Not Working]\u001b[0m\u001b[0m\n",
            "\u001b[0m20.204.214.79:3129 : \u001b[31m[Not Working]\u001b[0m\u001b[0m\n",
            "\u001b[0m20.219.177.85:3129 : \u001b[31m[Not Working]\u001b[0m\u001b[0m\n",
            "\u001b[0m20.219.235.172:3129 : \u001b[32m[Working]\u001b[0m\u001b[0m\n",
            "\u001b[0m67.43.227.226:25639 : \u001b[31m[Not Working]\u001b[0m\u001b[0m\n",
            "\u001b[0m20.219.177.38:3129 : \u001b[31m[Not Working]\u001b[0m\u001b[0m\n",
            "\u001b[0m20.219.177.73:3129 : \u001b[32m[Working]\u001b[0m\u001b[0m\n",
            "\u001b[0m20.44.190.150:3129 : \u001b[32m[Working]\u001b[0m\u001b[0m\n",
            "\u001b[0m\n",
            "\u001b[33m[+]\u001b[32m List of Working Proxies:\u001b[0m\n",
            "\u001b[0m\n",
            "\u001b[0m20.44.190.150:3129\u001b[0m\n",
            "\u001b[0m20.219.177.73:3129\u001b[0m\n",
            "\u001b[0m35.185.196.38:3128\u001b[0m\n",
            "\u001b[0m20.219.235.172:3129\u001b[0m\n",
            "\u001b[0m51.145.176.250:8080\u001b[0m\n",
            "\u001b[0m\n",
            "\u001b[33m[+]\u001b[32m Time taken: \u001b[33m17.788416385650635 seconds\u001b[0m\n",
            "\u001b[0m\n",
            "\u001b[33m[+]\u001b[31m List of Working Proxies saved at: \u001b[32m/content/Valid8Proxy/proxies.txt\u001b[0m\u001b[0m\n",
            "\u001b[0m\u001b[0m"
          ]
        }
      ]
    }
  ]
}